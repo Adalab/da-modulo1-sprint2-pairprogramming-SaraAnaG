{
 "cells": [
  {
   "cell_type": "code",
   "execution_count": 18,
   "metadata": {},
   "outputs": [],
   "source": [
    "from datetime import datetime"
   ]
  },
  {
   "cell_type": "code",
   "execution_count": 19,
   "metadata": {},
   "outputs": [],
   "source": [
    "class Empleados:\n",
    "    def __init__ (self, nombre, apellidos, edad, posicion, año, vacaciones, herramientas, salario):\n",
    "        self.nombre= nombre\n",
    "        self.apellidos = apellidos\n",
    "        self.edad = edad\n",
    "        self.posicion = posicion\n",
    "        self.año = año\n",
    "        self.vacaciones = vacaciones\n",
    "        self.herramientas = herramientas\n",
    "        self.salario = salario\n",
    "    \n",
    "    def descripcion(self):\n",
    "        print(f'El nombre del empleado es {self.nombre} {self.apellidos},su posicion {self.posicion}, entro el año {self.año} y le quedan {self.vacaciones} días de vacaciones.')\n",
    "    \n",
    "    def cambiando_posicion(self):\n",
    "        for herramienta in self.herramientas:\n",
    "            if herramienta == 'python':\n",
    "                return 'Bien hecho'\n",
    "            elif herramienta == 'excel':\n",
    "                return 'Deberias aprender Python'\n",
    "            else:\n",
    "                return 'Deberias aprender Python'\n",
    "    \n",
    "    #Asumimos que el empleado entro en enero\n",
    "    def calcular_antiguedad(self):\n",
    "        año_actual = datetime.now().year\n",
    "        mes_actual = datetime.now().month\n",
    "        antiguedad = año_actual - self.año\n",
    "        print(f'{self.nombre} {self.apellidos} lleva {antiguedad} años y {mes_actual} meses')\n",
    "        return antiguedad\n",
    "    \n",
    "    def solicitar_aumento_vacaciones(self, dias_solicitados):\n",
    "        if dias_solicitados > 0:\n",
    "            self.vacaciones += dias_solicitados\n",
    "            print(f'Vacaciones actualizadas, te quedan {self.vacaciones} días de vacaciones.')\n",
    "            return self.vacaciones\n",
    "        else:\n",
    "            print( 'Los días solicitados deben ser un número positivo.')\n",
    "    \n",
    "    def registra_herramienta(self, nueva_herramienta):\n",
    "        if nueva_herramienta not in self.herramientas:\n",
    "            self.herramientas.append(nueva_herramienta)\n",
    "            print(f'Se ha añadido {nueva_herramienta} a la lista de herramientas')\n",
    "            return self.herramientas\n",
    "        else:\n",
    "            print ('La herramienta ya esta en la lista.')\n",
    "\n",
    "    def cambiar_posicion (self, nueva_posicion, nuevo_salario):\n",
    "        self.posicion = nueva_posicion \n",
    "        self.salario = nuevo_salario\n",
    "        print (f'{self.nombre} {self.apellidos} ha cambiado de posición {self.posicion} con un salario de {self.salario}')\n",
    "        return self.posicion, self.salario\n",
    "    \n",
    "    def tomar_vacaciones (self):\n",
    "        dias = int(input('Cuantos dias de vacaciones quieres tomar?'))\n",
    "        if dias >= 1:\n",
    "            if dias <= self.vacaciones:    \n",
    "                self.vacaciones += dias\n",
    "                print( f'dias solicitados correctamente, te quedan {self.vacaciones} dias de vacaciones')\n",
    "                return self.vacaciones\n",
    "            else: \n",
    "                print (f'Solo te quedan tantos {self.vacaciones} dias de vacaciones.')\n",
    "        else: \n",
    "            print ('debes solicitar como minimo un dia de vacaciones')\n",
    "    \n",
    "    def solicitar_aumento_salario(self):\n",
    "        try: \n",
    "            porcentaje = float(input('indica el porcentaje de aumento de salario'))\n",
    "        except: \n",
    "            print('Debes introducir un numero entre 0 y 100.')\n",
    "        while porcentaje < 0:\n",
    "            print('Debes ingresar un numero positivo')\n",
    "            try: \n",
    "                porcentaje = float(input('indica el porcentaje de aumento de salario'))\n",
    "            except: \n",
    "                 print( 'Debes introducir un numero entre 0 y 100.')\n",
    "        self.salario += (porcentaje/100)*self.salario\n",
    "        print( f'El salario se ha actualizado correctamente a {self.salario}. ')\n",
    "        return self.salario\n",
    "    \n",
    "    def realizar_evaluacion(self):\n",
    "        opciones = ['excelente', 'bueno', 'regular', 'malo']\n",
    "        calificacion = input(f'califica tu desempeño con las siguientes opciones {opciones}')\n",
    "        while calificacion not in opciones: \n",
    "            print('La calificacion debe ser una de las opciones propuestas')\n",
    "            calificacion = input(f'califica tu desempeño con las siguientes opciones {opciones}')\n",
    "        return f'la calificacion de {self.nombre} {self.apellidos} es de {calificacion}'\n",
    "        \n",
    "    \n",
    "\n",
    "        \n",
    "        \n",
    "    "
   ]
  },
  {
   "cell_type": "code",
   "execution_count": 20,
   "metadata": {},
   "outputs": [
    {
     "data": {
      "text/plain": [
       "10"
      ]
     },
     "execution_count": 20,
     "metadata": {},
     "output_type": "execute_result"
    }
   ],
   "source": [
    "mes_actual = datetime.now().month\n",
    "mes_actual"
   ]
  },
  {
   "cell_type": "code",
   "execution_count": 21,
   "metadata": {},
   "outputs": [
    {
     "name": "stdout",
     "output_type": "stream",
     "text": [
      "El salario se ha actualizado correctamente a 1100.0. \n"
     ]
    },
    {
     "data": {
      "text/plain": [
       "1100.0"
      ]
     },
     "execution_count": 21,
     "metadata": {},
     "output_type": "execute_result"
    }
   ],
   "source": [
    "empleado1 = Empleados('Juana', 'Lopez', 33, 'data analyst', 2015, 30, ['python', 'excel'], 1000)\n",
    "empleado1.solicitar_aumento_salario()"
   ]
  },
  {
   "cell_type": "code",
   "execution_count": 22,
   "metadata": {},
   "outputs": [
    {
     "name": "stdout",
     "output_type": "stream",
     "text": [
      "El nombre del empleado es Juana Lopez,su posicion data analyst, entro el año 2015 y le quedan 30 días de vacaciones.\n"
     ]
    }
   ],
   "source": [
    "empleado1.descripcion()"
   ]
  },
  {
   "cell_type": "code",
   "execution_count": 23,
   "metadata": {},
   "outputs": [
    {
     "data": {
      "text/plain": [
       "'Bien hecho'"
      ]
     },
     "execution_count": 23,
     "metadata": {},
     "output_type": "execute_result"
    }
   ],
   "source": [
    "empleado1.cambiando_posicion()"
   ]
  },
  {
   "cell_type": "code",
   "execution_count": 25,
   "metadata": {},
   "outputs": [
    {
     "name": "stdout",
     "output_type": "stream",
     "text": [
      "Juana Lopez lleva 8 años y 10 meses\n"
     ]
    },
    {
     "data": {
      "text/plain": [
       "8"
      ]
     },
     "execution_count": 25,
     "metadata": {},
     "output_type": "execute_result"
    }
   ],
   "source": [
    "empleado1.calcular_antiguedad()"
   ]
  },
  {
   "cell_type": "code",
   "execution_count": 26,
   "metadata": {},
   "outputs": [
    {
     "name": "stdout",
     "output_type": "stream",
     "text": [
      "Vacaciones actualizadas, te quedan 40 días de vacaciones.\n"
     ]
    },
    {
     "data": {
      "text/plain": [
       "40"
      ]
     },
     "execution_count": 26,
     "metadata": {},
     "output_type": "execute_result"
    }
   ],
   "source": [
    "empleado1.solicitar_aumento_vacaciones(10)"
   ]
  },
  {
   "cell_type": "code",
   "execution_count": 27,
   "metadata": {},
   "outputs": [
    {
     "name": "stdout",
     "output_type": "stream",
     "text": [
      "Se ha añadido Tableau a la lista de herramientas\n"
     ]
    },
    {
     "data": {
      "text/plain": [
       "['python', 'excel', 'Tableau']"
      ]
     },
     "execution_count": 27,
     "metadata": {},
     "output_type": "execute_result"
    }
   ],
   "source": [
    "empleado1.registra_herramienta('Tableau')"
   ]
  },
  {
   "cell_type": "code",
   "execution_count": 28,
   "metadata": {},
   "outputs": [
    {
     "name": "stdout",
     "output_type": "stream",
     "text": [
      "Juana Lopez ha cambiado de posición jefe con un salario de 2000\n"
     ]
    },
    {
     "data": {
      "text/plain": [
       "('jefe', 2000)"
      ]
     },
     "execution_count": 28,
     "metadata": {},
     "output_type": "execute_result"
    }
   ],
   "source": [
    "empleado1.cambiar_posicion('jefe', 2000)"
   ]
  },
  {
   "cell_type": "code",
   "execution_count": 30,
   "metadata": {},
   "outputs": [
    {
     "name": "stdout",
     "output_type": "stream",
     "text": [
      "dias solicitados correctamente, te quedan 70 dias de vacaciones\n"
     ]
    },
    {
     "data": {
      "text/plain": [
       "70"
      ]
     },
     "execution_count": 30,
     "metadata": {},
     "output_type": "execute_result"
    }
   ],
   "source": [
    "empleado1.tomar_vacaciones()"
   ]
  },
  {
   "cell_type": "code",
   "execution_count": 31,
   "metadata": {},
   "outputs": [
    {
     "name": "stdout",
     "output_type": "stream",
     "text": [
      "El salario se ha actualizado correctamente a 3000.0. \n"
     ]
    },
    {
     "data": {
      "text/plain": [
       "3000.0"
      ]
     },
     "execution_count": 31,
     "metadata": {},
     "output_type": "execute_result"
    }
   ],
   "source": [
    "empleado1.solicitar_aumento_salario()"
   ]
  },
  {
   "cell_type": "code",
   "execution_count": 32,
   "metadata": {},
   "outputs": [
    {
     "data": {
      "text/plain": [
       "'la calificacion de Juana Lopez es de bueno'"
      ]
     },
     "execution_count": 32,
     "metadata": {},
     "output_type": "execute_result"
    }
   ],
   "source": [
    "empleado1.realizar_evaluacion()"
   ]
  },
  {
   "cell_type": "code",
   "execution_count": 52,
   "metadata": {},
   "outputs": [],
   "source": [
    "class Gerente(Empleados):\n",
    "    def __init__ (self, nombre, apellidos, edad, posicion, año, vacaciones, herramientas, salario, departamento, empleados_a_cargo=[]):\n",
    "        super().__init__(nombre, apellidos, edad, posicion, año, vacaciones, herramientas, salario)\n",
    "        self.departamento = departamento\n",
    "        self.empleados_a_cargo = empleados_a_cargo\n",
    "    \n",
    "    def asignar_tareas (self, tarea, empleado):\n",
    "        return f'La tarea {tarea} se ha asignado a {empleado}'\n",
    "    \n",
    "    def revisar_desempeño_empleado(self, empleado):\n",
    "        return f' el gerente esta revisando el desempeño de {empleado}'\n",
    "    \n",
    "    def gestionar_empleados (self, accion, empleado):\n",
    "        if accion == 'contratar':\n",
    "            self.empleados_a_cargo.append(empleado)\n",
    "            print(f'El gerente ha contratado a {empleado}')\n",
    "        elif accion == 'despedir':\n",
    "            if empleado in self.empleados_a_cargo:\n",
    "                self.empleados_a_cargo.remove(empleado)\n",
    "            else:\n",
    "                print('El empleado no esta en la base de datos')\n",
    "        else:\n",
    "            print('La acción no es valida')\n",
    "            \n"
   ]
  },
  {
   "cell_type": "code",
   "execution_count": 53,
   "metadata": {},
   "outputs": [],
   "source": [
    "gerente2 = Gerente('pepa', 'perez', 40, 'gerente', 2005, 40, 'python', 3000, 'gerencia')"
   ]
  },
  {
   "cell_type": "code",
   "execution_count": 54,
   "metadata": {},
   "outputs": [
    {
     "data": {
      "text/plain": [
       "'La tarea evaluacion se ha asignado a juana'"
      ]
     },
     "execution_count": 54,
     "metadata": {},
     "output_type": "execute_result"
    }
   ],
   "source": [
    "gerente2.asignar_tareas('evaluacion', 'juana')"
   ]
  },
  {
   "cell_type": "code",
   "execution_count": 55,
   "metadata": {},
   "outputs": [
    {
     "data": {
      "text/plain": [
       "' el gerente esta revisando el desempeño de Juana'"
      ]
     },
     "execution_count": 55,
     "metadata": {},
     "output_type": "execute_result"
    }
   ],
   "source": [
    "gerente2.revisar_desempeño_empleado('Juana')"
   ]
  },
  {
   "cell_type": "code",
   "execution_count": 59,
   "metadata": {},
   "outputs": [
    {
     "name": "stdout",
     "output_type": "stream",
     "text": [
      "La acción no es valida\n"
     ]
    }
   ],
   "source": [
    "gerente2.gestionar_empleados('despeasdsair', 'Lucia')"
   ]
  },
  {
   "cell_type": "code",
   "execution_count": null,
   "metadata": {},
   "outputs": [],
   "source": []
  }
 ],
 "metadata": {
  "kernelspec": {
   "display_name": "base",
   "language": "python",
   "name": "python3"
  },
  "language_info": {
   "codemirror_mode": {
    "name": "ipython",
    "version": 3
   },
   "file_extension": ".py",
   "mimetype": "text/x-python",
   "name": "python",
   "nbconvert_exporter": "python",
   "pygments_lexer": "ipython3",
   "version": "3.9.7"
  }
 },
 "nbformat": 4,
 "nbformat_minor": 2
}
